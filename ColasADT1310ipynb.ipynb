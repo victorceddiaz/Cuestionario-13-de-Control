{
  "nbformat": 4,
  "nbformat_minor": 0,
  "metadata": {
    "colab": {
      "name": "ColasADT1310ipynb",
      "provenance": [],
      "authorship_tag": "ABX9TyMAbnjGijVR1Ow+j0ShUNWf",
      "include_colab_link": true
    },
    "kernelspec": {
      "name": "python3",
      "display_name": "Python 3"
    },
    "language_info": {
      "name": "python"
    }
  },
  "cells": [
    {
      "cell_type": "markdown",
      "metadata": {
        "id": "view-in-github",
        "colab_type": "text"
      },
      "source": [
        "<a href=\"https://colab.research.google.com/github/victorceddiaz/Cuestionario-13-de-Control/blob/main/ColasADT1310ipynb.ipynb\" target=\"_parent\"><img src=\"https://colab.research.google.com/assets/colab-badge.svg\" alt=\"Open In Colab\"/></a>"
      ]
    },
    {
      "cell_type": "markdown",
      "metadata": {
        "id": "bQSY-WgzKob-"
      },
      "source": [
        "# Colas ADT"
      ]
    },
    {
      "cell_type": "code",
      "metadata": {
        "id": "ZdHONlrjJnCr"
      },
      "source": [
        "class Queue:\n",
        "    def __init__(self) :\n",
        "        self.data = []\n",
        "\n",
        "    def is_empty(self) :\n",
        "        return len(self.data) == 0\n",
        "    \n",
        "    def length(self) :\n",
        "        return len(self.data)\n",
        "\n",
        "    def enqueue(self, value) :\n",
        "        self.data.append(value)\n",
        "    \n",
        "    def dequeue(self) :\n",
        "        return self.data.pop(0)\n",
        "    \n",
        "    def to_string(self) :\n",
        "        for elem in self.data :\n",
        "            print(f'|{elem}| <-- ', end=\"\")\n",
        "        print(\"\")"
      ],
      "execution_count": 10,
      "outputs": []
    },
    {
      "cell_type": "code",
      "metadata": {
        "colab": {
          "base_uri": "https://localhost:8080/"
        },
        "id": "5pjPdof8NifX",
        "outputId": "e57ec3de-e84c-4eb4-9688-1d63a2f2f6cd"
      },
      "source": [
        "cola = Queue()\n",
        "print(\"Esta vacío? : \", cola.is_empty())\n",
        "print(\"Núm de elementos : \", cola.length())\n",
        "cola.enqueue(10)\n",
        "cola.enqueue(20)\n",
        "cola.enqueue(30)\n",
        "print(\"Esta vacío? : \", cola.is_empty())\n",
        "print(\"Núm de elementos : \", cola.length())\n",
        "cola.enqueue(40)\n",
        "cola.enqueue(50)\n",
        "cola.enqueue(60)\n",
        "cola.to_string()\n",
        "siguiente = cola.dequeue()\n",
        "print(\"Atendiendo a : \", siguiente)\n",
        "cola.to_string()"
      ],
      "execution_count": 13,
      "outputs": [
        {
          "output_type": "stream",
          "name": "stdout",
          "text": [
            "Esta vacío? :  True\n",
            "Núm de elementos :  0\n",
            "Esta vacío? :  False\n",
            "Núm de elementos :  3\n",
            "|10| <-- |20| <-- |30| <-- |40| <-- |50| <-- |60| <-- \n",
            "Atendiendo a :  10\n",
            "|20| <-- |30| <-- |40| <-- |50| <-- |60| <-- \n"
          ]
        }
      ]
    },
    {
      "cell_type": "markdown",
      "metadata": {
        "id": "UdUAuuuLQkZK"
      },
      "source": [
        "#Variantes del ADT Cola\n",
        "\n",
        "1. Circulares\n",
        "2. Prioridad\n",
        "    1. Acotada\n",
        "    2. No acotada\n"
      ]
    }
  ]
}